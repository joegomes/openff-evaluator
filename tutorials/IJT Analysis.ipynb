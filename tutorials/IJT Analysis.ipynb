{
 "cells": [
  {
   "cell_type": "code",
   "execution_count": 1,
   "id": "solid-integral",
   "metadata": {},
   "outputs": [],
   "source": [
    "import pandas as pd"
   ]
  },
  {
   "cell_type": "code",
   "execution_count": 2,
   "id": "precise-confusion",
   "metadata": {},
   "outputs": [
    {
     "name": "stdout",
     "output_type": "stream",
     "text": [
      "                                                   @type  \\\n",
      "0      openff.evaluator.datasets.thermoml.thermoml.Th...   \n",
      "1      openff.evaluator.datasets.thermoml.thermoml.Th...   \n",
      "2      openff.evaluator.datasets.thermoml.thermoml.Th...   \n",
      "3      openff.evaluator.datasets.thermoml.thermoml.Th...   \n",
      "4      openff.evaluator.datasets.thermoml.thermoml.Th...   \n",
      "...                                                  ...   \n",
      "10323  openff.evaluator.datasets.thermoml.thermoml.Th...   \n",
      "10324  openff.evaluator.datasets.thermoml.thermoml.Th...   \n",
      "10325  openff.evaluator.datasets.thermoml.thermoml.Th...   \n",
      "10326  openff.evaluator.datasets.thermoml.thermoml.Th...   \n",
      "10327  openff.evaluator.datasets.thermoml.thermoml.Th...   \n",
      "\n",
      "                                              properties  \n",
      "0      {'@type': 'openff.evaluator.properties.density...  \n",
      "1      {'@type': 'openff.evaluator.properties.density...  \n",
      "2      {'@type': 'openff.evaluator.properties.density...  \n",
      "3      {'@type': 'openff.evaluator.properties.density...  \n",
      "4      {'@type': 'openff.evaluator.properties.density...  \n",
      "...                                                  ...  \n",
      "10323  {'@type': 'openff.evaluator.properties.density...  \n",
      "10324  {'@type': 'openff.evaluator.properties.density...  \n",
      "10325  {'@type': 'openff.evaluator.properties.density...  \n",
      "10326  {'@type': 'openff.evaluator.properties.density...  \n",
      "10327  {'@type': 'openff.evaluator.properties.density...  \n",
      "\n",
      "[10328 rows x 2 columns]\n"
     ]
    }
   ],
   "source": [
    "df = pd.read_json(\"ijt.json\")\n",
    "print(df)"
   ]
  },
  {
   "cell_type": "code",
   "execution_count": 3,
   "id": "amazing-chicago",
   "metadata": {},
   "outputs": [
    {
     "data": {
      "text/plain": [
       "@type         openff.evaluator.datasets.thermoml.thermoml.Th...\n",
       "properties    {'@type': 'openff.evaluator.properties.density...\n",
       "Name: 0, dtype: object"
      ]
     },
     "execution_count": 3,
     "metadata": {},
     "output_type": "execute_result"
    }
   ],
   "source": [
    "df.iloc[0]"
   ]
  },
  {
   "cell_type": "code",
   "execution_count": 20,
   "id": "noble-algorithm",
   "metadata": {},
   "outputs": [
    {
     "data": {
      "text/plain": [
       "{'@type': 'openff.evaluator.properties.density.Density',\n",
       " 'gradients': [],\n",
       " 'id': 'bb4ea082a07444fe985558a107d2a7ac',\n",
       " 'phase': 2,\n",
       " 'source': {'@type': 'openff.evaluator.datasets.provenance.MeasurementSource',\n",
       "  'doi': '10.1007/s10765-011-1149-x',\n",
       "  'reference': ''},\n",
       " 'substance': {'@type': 'openff.evaluator.substances.substances.Substance',\n",
       "  'amounts': {'Cc1cc(C)nc(C)c1{solv}': [{'@type': 'openff.evaluator.substances.amounts.MoleFraction',\n",
       "     'value': 0.8896000000000001}],\n",
       "   'OCCO{solv}': [{'@type': 'openff.evaluator.substances.amounts.MoleFraction',\n",
       "     'value': 0.11040000000000001}]},\n",
       "  'components': [{'@type': 'openff.evaluator.substances.components.Component',\n",
       "    'role': {'@type': 'openff.evaluator.substances.components.Component.Role',\n",
       "     'value': 'solv'},\n",
       "    'smiles': 'Cc1cc(C)nc(C)c1'},\n",
       "   {'@type': 'openff.evaluator.substances.components.Component',\n",
       "    'role': {'@type': 'openff.evaluator.substances.components.Component.Role',\n",
       "     'value': 'solv'},\n",
       "    'smiles': 'OCCO'}]},\n",
       " 'thermodynamic_state': {'@type': 'openff.evaluator.thermodynamics.ThermodynamicState',\n",
       "  'pressure': {'@type': 'openff.evaluator.unit.Quantity',\n",
       "   'unit': 'kPa',\n",
       "   'value': 101.0},\n",
       "  'temperature': {'@type': 'openff.evaluator.unit.Quantity',\n",
       "   'unit': 'K',\n",
       "   'value': 283.15}},\n",
       " 'uncertainty': {'@type': 'openff.evaluator.unit.Quantity',\n",
       "  'unit': 'kg / m ** 3',\n",
       "  'value': 0.11},\n",
       " 'value': {'@type': 'openff.evaluator.unit.Quantity',\n",
       "  'unit': 'kg / m ** 3',\n",
       "  'value': 938.89}}"
      ]
     },
     "execution_count": 20,
     "metadata": {},
     "output_type": "execute_result"
    }
   ],
   "source": [
    "df.iloc[1000][\"properties\"]"
   ]
  },
  {
   "cell_type": "code",
   "execution_count": 21,
   "id": "painted-seventh",
   "metadata": {},
   "outputs": [
    {
     "name": "stdout",
     "output_type": "stream",
     "text": [
      "['10.1007/s10765-013-1492-1', '10.1007/s10765-010-0752-6', '10.1007/s10765-012-1370-2', '10.1007/s10765-010-0742-8', '10.1007/s10765-008-0491-0', '10.1007/s10765-011-1100-1', '10.1007/s10765-008-0390-4', '10.1007/s10765-011-1149-x', '10.1007/s10765-005-8102-9', '10.1007/s10765-015-1994-0', '10.1007/s10765-006-0020-y', '10.1007/s10765-010-0766-0', '10.1007/s10765-012-1233-x', '10.1007/s10765-009-0651-x', '10.1007/s10765-010-0902-x', '10.1007/s10765-011-0995-x', '10.1007/s10765-012-1373-z', '10.1007/s10765-010-0773-1', '10.1007/s10765-015-1980-6', '10.1007/s10765-005-8101-x', '10.1007/s10765-009-0622-2', '10.1007/s10765-011-0997-8', '10.1007/s10765-018-2359-2', '10.1007/s10765-016-2089-2', '10.1007/s10765-010-0861-2', '10.1007/s10765-009-0610-6', '10.1007/s10765-010-0717-9', '10.1007/s10765-018-2361-8', '10.1007/s10765-008-0399-8', '10.1007/s10765-005-5571-9', '10.1007/s10765-009-0593-3', '10.1007/s10765-006-0088-4', '10.1007/s10765-007-0241-8', '10.1007/s10765-007-0259-y', '10.1007/s10765-016-2061-1', '10.1007/s10765-014-1759-1', '10.1007/s10765-016-2096-3', '10.1007/s10765-010-0862-1', '10.1007/s10765-005-5570-x', '10.1007/s10765-007-0204-0', '10.1007/s10765-016-2064-y', '10.1007/s10765-010-0737-5', '10.1007/s10765-013-1487-y', '10.1007/s10765-013-1527-7', '10.1007/s10765-010-0736-6', '10.1007/s10765-007-0223-x', '10.1007/s10765-015-2009-x', '10.1007/s10765-012-1159-3', '10.1007/s10765-010-0889-3', '10.1007/s10765-015-1927-y', '10.1007/s10765-008-0542-6', '10.1007/s10765-011-1065-0', '10.1007/s10765-017-2241-7', '10.1007/s10765-013-1483-2', '10.1007/s10765-014-1617-1', '10.1007/s10765-006-0047-0', '10.1007/s10765-011-1087-7', '10.1007/s10765-010-0768-y', '10.1007/s10765-013-1526-8', '10.1007/s10765-008-0444-7', '10.1007/s10765-008-0535-5', '10.1007/s10765-007-0169-z', '10.1007/s10765-005-5572-8', '10.1007/s10765-008-0395-z', '10.1007/s10765-009-0648-5', '10.1007/s10765-015-1922-3', '10.1007/s10765-006-0100-z', '10.1007/s10765-007-0220-0', '10.1007/s10765-008-0503-0', '10.1007/s10765-013-1469-0', '10.1007/s10765-010-0860-3', '10.1007/s10765-005-5585-3', '10.1007/s10765-010-0874-x', '10.1007/s10765-009-0667-2', '10.1007/s10765-009-0665-4', '10.1007/s10765-006-0063-0', '10.1007/s10765-010-0719-7', '10.1007/s10765-009-0581-7', '10.1007/s10765-011-0989-8', '10.1007/s10765-009-0562-x', '10.1007/s10765-014-1730-1', '10.1007/s10765-008-0410-4', '10.1007/s10765-006-0095-5', '10.1007/s10765-006-0053-2']\n"
     ]
    }
   ],
   "source": [
    "doi = []\n",
    "properties = df[\"properties\"]\n",
    "doi = [d[\"source\"][\"doi\"] for d in properties]\n",
    "doi = list(set(doi))\n",
    "print(doi)"
   ]
  },
  {
   "cell_type": "code",
   "execution_count": 22,
   "id": "gross-malta",
   "metadata": {},
   "outputs": [
    {
     "data": {
      "text/plain": [
       "84"
      ]
     },
     "execution_count": 22,
     "metadata": {},
     "output_type": "execute_result"
    }
   ],
   "source": [
    "len(doi)"
   ]
  },
  {
   "cell_type": "code",
   "execution_count": 23,
   "id": "broke-cliff",
   "metadata": {},
   "outputs": [
    {
     "name": "stdout",
     "output_type": "stream",
     "text": [
      "[2]\n"
     ]
    }
   ],
   "source": [
    "doi = []\n",
    "properties = df[\"properties\"]\n",
    "doi = [d[\"phase\"] for d in properties]\n",
    "doi = list(set(doi))\n",
    "print(doi)"
   ]
  },
  {
   "cell_type": "code",
   "execution_count": null,
   "id": "legal-mailing",
   "metadata": {},
   "outputs": [],
   "source": []
  }
 ],
 "metadata": {
  "kernelspec": {
   "display_name": "Python 3",
   "language": "python",
   "name": "python3"
  },
  "language_info": {
   "codemirror_mode": {
    "name": "ipython",
    "version": 3
   },
   "file_extension": ".py",
   "mimetype": "text/x-python",
   "name": "python",
   "nbconvert_exporter": "python",
   "pygments_lexer": "ipython3",
   "version": "3.9.2"
  }
 },
 "nbformat": 4,
 "nbformat_minor": 5
}
